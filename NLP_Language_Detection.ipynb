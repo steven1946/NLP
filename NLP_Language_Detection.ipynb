{
  "cells": [
    {
      "cell_type": "markdown",
      "source": [
        "2440004445 - Steven Matthew\n",
        "\n",
        "2440019030 - Muhammad Farras Nayan \n",
        "\n",
        "2440021205 - Yeremia Sutanto Adi Pratama"
      ],
      "metadata": {
        "id": "FVz5jcOVgPUc"
      }
    },
    {
      "cell_type": "code",
      "execution_count": null,
      "metadata": {
        "id": "xJsaZCecCEpx"
      },
      "outputs": [],
      "source": [
        "import pandas as pd\n",
        "import numpy as np\n",
        "import re\n",
        "import seaborn as sns\n",
        "import matplotlib.pyplot as plt\n",
        "import warnings\n",
        "warnings.simplefilter(\"ignore\")"
      ]
    },
    {
      "cell_type": "code",
      "execution_count": null,
      "metadata": {
        "colab": {
          "base_uri": "https://localhost:8080/",
          "height": 363
        },
        "id": "THsOYKyICKOW",
        "outputId": "b1f10fe8-670a-4698-c73d-b33246d3e1ec"
      },
      "outputs": [
        {
          "output_type": "execute_result",
          "data": {
            "text/plain": [
              "                                                Text    Language\n",
              "0  oyama station was opened on  april  the statio...     English\n",
              "1  elle est la fille de gérios tuéni et katbé sur...      French\n",
              "2  en  participó en el video \"love machine\" donde...     Spanish\n",
              "3  o rondonópolis e o goiás são os únicos times d...  Portuguese\n",
              "4  immagino che non vorrebbe più pane d'oro adess...     Italian\n",
              "5   мая  года был назначен тренером вратарей сбор...     Russian\n",
              "6  cerro wichu kkollu är ett berg i bolivia det l...     Swedish\n",
              "7  ടെറി നിങ്ങൾ യഥാർത്ഥത്തിൽ ആ മാലാഖയെപ്പോലെയാണ് ക...   Malayalam\n",
              "8  francisco de miranda is een gemeente in de ven...       Dutch\n",
              "9  في  أبريل م قدم الزعيم مصطفى النحاس مذكرة للسف...      Arabic"
            ],
            "text/html": [
              "\n",
              "  <div id=\"df-27495fd7-3143-4753-8cc7-9a315fb19ef6\">\n",
              "    <div class=\"colab-df-container\">\n",
              "      <div>\n",
              "<style scoped>\n",
              "    .dataframe tbody tr th:only-of-type {\n",
              "        vertical-align: middle;\n",
              "    }\n",
              "\n",
              "    .dataframe tbody tr th {\n",
              "        vertical-align: top;\n",
              "    }\n",
              "\n",
              "    .dataframe thead th {\n",
              "        text-align: right;\n",
              "    }\n",
              "</style>\n",
              "<table border=\"1\" class=\"dataframe\">\n",
              "  <thead>\n",
              "    <tr style=\"text-align: right;\">\n",
              "      <th></th>\n",
              "      <th>Text</th>\n",
              "      <th>Language</th>\n",
              "    </tr>\n",
              "  </thead>\n",
              "  <tbody>\n",
              "    <tr>\n",
              "      <th>0</th>\n",
              "      <td>oyama station was opened on  april  the statio...</td>\n",
              "      <td>English</td>\n",
              "    </tr>\n",
              "    <tr>\n",
              "      <th>1</th>\n",
              "      <td>elle est la fille de gérios tuéni et katbé sur...</td>\n",
              "      <td>French</td>\n",
              "    </tr>\n",
              "    <tr>\n",
              "      <th>2</th>\n",
              "      <td>en  participó en el video \"love machine\" donde...</td>\n",
              "      <td>Spanish</td>\n",
              "    </tr>\n",
              "    <tr>\n",
              "      <th>3</th>\n",
              "      <td>o rondonópolis e o goiás são os únicos times d...</td>\n",
              "      <td>Portuguese</td>\n",
              "    </tr>\n",
              "    <tr>\n",
              "      <th>4</th>\n",
              "      <td>immagino che non vorrebbe più pane d'oro adess...</td>\n",
              "      <td>Italian</td>\n",
              "    </tr>\n",
              "    <tr>\n",
              "      <th>5</th>\n",
              "      <td>мая  года был назначен тренером вратарей сбор...</td>\n",
              "      <td>Russian</td>\n",
              "    </tr>\n",
              "    <tr>\n",
              "      <th>6</th>\n",
              "      <td>cerro wichu kkollu är ett berg i bolivia det l...</td>\n",
              "      <td>Swedish</td>\n",
              "    </tr>\n",
              "    <tr>\n",
              "      <th>7</th>\n",
              "      <td>ടെറി നിങ്ങൾ യഥാർത്ഥത്തിൽ ആ മാലാഖയെപ്പോലെയാണ് ക...</td>\n",
              "      <td>Malayalam</td>\n",
              "    </tr>\n",
              "    <tr>\n",
              "      <th>8</th>\n",
              "      <td>francisco de miranda is een gemeente in de ven...</td>\n",
              "      <td>Dutch</td>\n",
              "    </tr>\n",
              "    <tr>\n",
              "      <th>9</th>\n",
              "      <td>في  أبريل م قدم الزعيم مصطفى النحاس مذكرة للسف...</td>\n",
              "      <td>Arabic</td>\n",
              "    </tr>\n",
              "  </tbody>\n",
              "</table>\n",
              "</div>\n",
              "      <button class=\"colab-df-convert\" onclick=\"convertToInteractive('df-27495fd7-3143-4753-8cc7-9a315fb19ef6')\"\n",
              "              title=\"Convert this dataframe to an interactive table.\"\n",
              "              style=\"display:none;\">\n",
              "        \n",
              "  <svg xmlns=\"http://www.w3.org/2000/svg\" height=\"24px\"viewBox=\"0 0 24 24\"\n",
              "       width=\"24px\">\n",
              "    <path d=\"M0 0h24v24H0V0z\" fill=\"none\"/>\n",
              "    <path d=\"M18.56 5.44l.94 2.06.94-2.06 2.06-.94-2.06-.94-.94-2.06-.94 2.06-2.06.94zm-11 1L8.5 8.5l.94-2.06 2.06-.94-2.06-.94L8.5 2.5l-.94 2.06-2.06.94zm10 10l.94 2.06.94-2.06 2.06-.94-2.06-.94-.94-2.06-.94 2.06-2.06.94z\"/><path d=\"M17.41 7.96l-1.37-1.37c-.4-.4-.92-.59-1.43-.59-.52 0-1.04.2-1.43.59L10.3 9.45l-7.72 7.72c-.78.78-.78 2.05 0 2.83L4 21.41c.39.39.9.59 1.41.59.51 0 1.02-.2 1.41-.59l7.78-7.78 2.81-2.81c.8-.78.8-2.07 0-2.86zM5.41 20L4 18.59l7.72-7.72 1.47 1.35L5.41 20z\"/>\n",
              "  </svg>\n",
              "      </button>\n",
              "      \n",
              "  <style>\n",
              "    .colab-df-container {\n",
              "      display:flex;\n",
              "      flex-wrap:wrap;\n",
              "      gap: 12px;\n",
              "    }\n",
              "\n",
              "    .colab-df-convert {\n",
              "      background-color: #E8F0FE;\n",
              "      border: none;\n",
              "      border-radius: 50%;\n",
              "      cursor: pointer;\n",
              "      display: none;\n",
              "      fill: #1967D2;\n",
              "      height: 32px;\n",
              "      padding: 0 0 0 0;\n",
              "      width: 32px;\n",
              "    }\n",
              "\n",
              "    .colab-df-convert:hover {\n",
              "      background-color: #E2EBFA;\n",
              "      box-shadow: 0px 1px 2px rgba(60, 64, 67, 0.3), 0px 1px 3px 1px rgba(60, 64, 67, 0.15);\n",
              "      fill: #174EA6;\n",
              "    }\n",
              "\n",
              "    [theme=dark] .colab-df-convert {\n",
              "      background-color: #3B4455;\n",
              "      fill: #D2E3FC;\n",
              "    }\n",
              "\n",
              "    [theme=dark] .colab-df-convert:hover {\n",
              "      background-color: #434B5C;\n",
              "      box-shadow: 0px 1px 3px 1px rgba(0, 0, 0, 0.15);\n",
              "      filter: drop-shadow(0px 1px 2px rgba(0, 0, 0, 0.3));\n",
              "      fill: #FFFFFF;\n",
              "    }\n",
              "  </style>\n",
              "\n",
              "      <script>\n",
              "        const buttonEl =\n",
              "          document.querySelector('#df-27495fd7-3143-4753-8cc7-9a315fb19ef6 button.colab-df-convert');\n",
              "        buttonEl.style.display =\n",
              "          google.colab.kernel.accessAllowed ? 'block' : 'none';\n",
              "\n",
              "        async function convertToInteractive(key) {\n",
              "          const element = document.querySelector('#df-27495fd7-3143-4753-8cc7-9a315fb19ef6');\n",
              "          const dataTable =\n",
              "            await google.colab.kernel.invokeFunction('convertToInteractive',\n",
              "                                                     [key], {});\n",
              "          if (!dataTable) return;\n",
              "\n",
              "          const docLinkHtml = 'Like what you see? Visit the ' +\n",
              "            '<a target=\"_blank\" href=https://colab.research.google.com/notebooks/data_table.ipynb>data table notebook</a>'\n",
              "            + ' to learn more about interactive tables.';\n",
              "          element.innerHTML = '';\n",
              "          dataTable['output_type'] = 'display_data';\n",
              "          await google.colab.output.renderOutput(dataTable, element);\n",
              "          const docLink = document.createElement('div');\n",
              "          docLink.innerHTML = docLinkHtml;\n",
              "          element.appendChild(docLink);\n",
              "        }\n",
              "      </script>\n",
              "    </div>\n",
              "  </div>\n",
              "  "
            ]
          },
          "metadata": {},
          "execution_count": 2
        }
      ],
      "source": [
        "data = pd.read_csv(\"https://raw.githubusercontent.com/man-juu/datasetML/main/language_detection_dataset.csv\")\n",
        "data.head(10)"
      ]
    },
    {
      "cell_type": "code",
      "execution_count": null,
      "metadata": {
        "colab": {
          "base_uri": "https://localhost:8080/"
        },
        "id": "MwzlqHIJEGbY",
        "outputId": "214f0998-86db-49e3-e49e-acbf9e859191"
      },
      "outputs": [
        {
          "output_type": "execute_result",
          "data": {
            "text/plain": [
              "English       901\n",
              "French        901\n",
              "Spanish       820\n",
              "Portuguese    740\n",
              "Italian       697\n",
              "Russian       693\n",
              "Swedish       677\n",
              "Malayalam     594\n",
              "Dutch         547\n",
              "Arabic        537\n",
              "Turkish       475\n",
              "German        470\n",
              "Tamil         469\n",
              "Danish        428\n",
              "Kannada       369\n",
              "Greek         365\n",
              "Chinese       301\n",
              "Indonesian    301\n",
              "Japanese      301\n",
              "Korean        301\n",
              "Hindi         113\n",
              "Name: Language, dtype: int64"
            ]
          },
          "metadata": {},
          "execution_count": 3
        }
      ],
      "source": [
        "data[\"Language\"].value_counts()"
      ]
    },
    {
      "cell_type": "code",
      "execution_count": null,
      "metadata": {
        "id": "_B0XoBuIEINR"
      },
      "outputs": [],
      "source": [
        "X = data[\"Text\"]\n",
        "y = data[\"Language\"]"
      ]
    },
    {
      "cell_type": "code",
      "execution_count": null,
      "metadata": {
        "id": "CGy8gm9yEKsK"
      },
      "outputs": [],
      "source": [
        "from sklearn.preprocessing import LabelEncoder\n",
        "le = LabelEncoder()\n",
        "y = le.fit_transform(y)"
      ]
    },
    {
      "cell_type": "markdown",
      "metadata": {
        "id": "u7SNqSc3d9-A"
      },
      "source": [
        "creating a list for appending the preprocessed text"
      ]
    },
    {
      "cell_type": "code",
      "execution_count": null,
      "metadata": {
        "id": "pq7g-JQUEMN5"
      },
      "outputs": [],
      "source": [
        "data_list = []\n",
        "# iterating through all the text\n",
        "for text in X:\n",
        "       # removing the symbols and numbers\n",
        "        text = re.sub(r'[!@#$(),n\"%^*?:;~`0-9]', ' ', text)\n",
        "        text = re.sub(r'[[]]', ' ', text)\n",
        "        # converting the text to lower case\n",
        "        text = text.lower()\n",
        "      \n",
        "        #remove url\n",
        "        text = re.sub('https*\\S+' , ' ' , text)\n",
        "        # appending to data_list\n",
        "        data_list.append(text)"
      ]
    },
    {
      "cell_type": "code",
      "execution_count": null,
      "metadata": {
        "colab": {
          "base_uri": "https://localhost:8080/"
        },
        "id": "0uXjeTgoENby",
        "outputId": "691a8b16-ce26-406a-e68b-ea176c05e769"
      },
      "outputs": [
        {
          "output_type": "execute_result",
          "data": {
            "text/plain": [
              "(11000, 58874)"
            ]
          },
          "metadata": {},
          "execution_count": 7
        }
      ],
      "source": [
        "from sklearn.feature_extraction.text import CountVectorizer\n",
        "cv = CountVectorizer()\n",
        "X = cv.fit_transform(data_list).toarray()\n",
        "X.shape"
      ]
    },
    {
      "cell_type": "code",
      "execution_count": null,
      "metadata": {
        "id": "-jKDud93EPHU"
      },
      "outputs": [],
      "source": [
        "from sklearn.model_selection import train_test_split\n",
        "x_train, x_test, y_train, y_test = train_test_split(X, y, test_size = 0.20)"
      ]
    },
    {
      "cell_type": "code",
      "execution_count": null,
      "metadata": {
        "colab": {
          "base_uri": "https://localhost:8080/"
        },
        "id": "jzYDfioPEQZU",
        "outputId": "875100d9-3c01-4390-a538-dc23eaed0faf"
      },
      "outputs": [
        {
          "output_type": "execute_result",
          "data": {
            "text/plain": [
              "MultinomialNB()"
            ]
          },
          "metadata": {},
          "execution_count": 9
        }
      ],
      "source": [
        "from sklearn.naive_bayes import MultinomialNB\n",
        "model = MultinomialNB()\n",
        "model.fit(x_train, y_train)"
      ]
    },
    {
      "cell_type": "code",
      "execution_count": null,
      "metadata": {
        "id": "uR4L6MXyER7n"
      },
      "outputs": [],
      "source": [
        "y_pred = model.predict(x_test)"
      ]
    },
    {
      "cell_type": "code",
      "execution_count": null,
      "metadata": {
        "colab": {
          "base_uri": "https://localhost:8080/"
        },
        "id": "4wQXKcmlEoPZ",
        "outputId": "e59d131f-1648-4a0f-9027-8f4611740ac7"
      },
      "outputs": [
        {
          "output_type": "stream",
          "name": "stdout",
          "text": [
            "Accuracy is : 0.9395454545454546\n"
          ]
        }
      ],
      "source": [
        "from sklearn.metrics import accuracy_score, confusion_matrix, classification_report\n",
        "ac = accuracy_score(y_test, y_pred)\n",
        "cm = confusion_matrix(y_test, y_pred)\n",
        "\n",
        "print(\"Accuracy is :\",ac)\n",
        "# Accuracy is : 0.9459\n",
        "# Accuracy with extra preprocessing : 0.944"
      ]
    },
    {
      "cell_type": "code",
      "execution_count": null,
      "metadata": {
        "colab": {
          "base_uri": "https://localhost:8080/",
          "height": 593
        },
        "id": "yL4qr2WPEqfQ",
        "outputId": "a1f77321-a96a-4d71-f754-a1137cae368c"
      },
      "outputs": [
        {
          "output_type": "display_data",
          "data": {
            "text/plain": [
              "<Figure size 1080x720 with 2 Axes>"
            ],
            "image/png": "[encoded data removed]"
          },
          "metadata": {
            "needs_background": "light"
          }
        }
      ],
      "source": [
        "plt.figure(figsize=(15,10))\n",
        "sns.heatmap(cm, annot = True)\n",
        "plt.show()"
      ]
    },
    {
      "cell_type": "code",
      "execution_count": null,
      "metadata": {
        "id": "tGdESQitEtyM"
      },
      "outputs": [],
      "source": [
        "def predict(text):\n",
        "     x = cv.transform([text]).toarray() # converting text to bag of words model (Vector)\n",
        "     lang = model.predict(x) # predicting the language\n",
        "     lang = le.inverse_transform(lang) # finding the language corresponding the the predicted value\n",
        "     print(\"The language is in\",lang[0]) # printing the language"
      ]
    },
    {
      "cell_type": "code",
      "execution_count": null,
      "metadata": {
        "colab": {
          "base_uri": "https://localhost:8080/"
        },
        "id": "ph_id6D7E43W",
        "outputId": "4ee984ae-a3db-4f68-f060-565ebc7cd1c0"
      },
      "outputs": [
        {
          "output_type": "stream",
          "name": "stdout",
          "text": [
            "The language is in English\n"
          ]
        }
      ],
      "source": [
        "predict(\"my name is steven\")"
      ]
    },
    {
      "cell_type": "code",
      "execution_count": null,
      "metadata": {
        "colab": {
          "base_uri": "https://localhost:8080/"
        },
        "id": "Bswk1UyQE-hv",
        "outputId": "3682a6c9-51d3-4fe9-9cd8-3e1f055a4612"
      },
      "outputs": [
        {
          "output_type": "stream",
          "name": "stdout",
          "text": [
            "The language is in Arabic\n"
          ]
        }
      ],
      "source": [
        "predict(\"اسمي هو استيفن\")"
      ]
    },
    {
      "cell_type": "code",
      "execution_count": null,
      "metadata": {
        "colab": {
          "base_uri": "https://localhost:8080/"
        },
        "id": "LQIoLhy4Gdqf",
        "outputId": "fdf6f3ad-171b-40b3-e95b-cc4d6206b736"
      },
      "outputs": [
        {
          "output_type": "stream",
          "name": "stdout",
          "text": [
            "The language is in Spanish\n"
          ]
        }
      ],
      "source": [
        "predict(\"Mi nombre es Steven\")"
      ]
    },
    {
      "cell_type": "code",
      "execution_count": null,
      "metadata": {
        "colab": {
          "base_uri": "https://localhost:8080/"
        },
        "id": "KcdIaJQVGiLD",
        "outputId": "00f314ec-c8fb-40b7-8053-190200b88502"
      },
      "outputs": [
        {
          "output_type": "stream",
          "name": "stdout",
          "text": [
            "The language is in Italian\n"
          ]
        }
      ],
      "source": [
        "predict(\"mi chiamo steven\")"
      ]
    },
    {
      "cell_type": "code",
      "source": [
        "predict(\"Ini dimana? Siapa saya?\")"
      ],
      "metadata": {
        "colab": {
          "base_uri": "https://localhost:8080/"
        },
        "id": "dmJjpZ_HcWfx",
        "outputId": "77e14cd4-00b5-43b7-db80-22f85b71e031"
      },
      "execution_count": null,
      "outputs": [
        {
          "output_type": "stream",
          "name": "stdout",
          "text": [
            "The language is in Indonesian\n"
          ]
        }
      ]
    },
    {
      "cell_type": "code",
      "source": [
        "predict(\"ここはどこ?私は誰?\")"
      ],
      "metadata": {
        "colab": {
          "base_uri": "https://localhost:8080/"
        },
        "id": "UVws2QiDcX-i",
        "outputId": "b820fdee-74f3-4172-b7e3-e1bc3fd806b1"
      },
      "execution_count": null,
      "outputs": [
        {
          "output_type": "stream",
          "name": "stdout",
          "text": [
            "The language is in Japanese\n"
          ]
        }
      ]
    },
    {
      "cell_type": "code",
      "source": [
        "predict(\"где это? кто я?\")"
      ],
      "metadata": {
        "colab": {
          "base_uri": "https://localhost:8080/"
        },
        "id": "JIbFkz1FcZfX",
        "outputId": "f72a4696-2e50-4e87-e572-dbfac71dc0fe"
      },
      "execution_count": null,
      "outputs": [
        {
          "output_type": "stream",
          "name": "stdout",
          "text": [
            "The language is in Russian\n"
          ]
        }
      ]
    },
    {
      "cell_type": "code",
      "source": [
        "predict(\"यह कहां है? मैं कौन हूँ?\")"
      ],
      "metadata": {
        "colab": {
          "base_uri": "https://localhost:8080/"
        },
        "id": "joFZ8D57cSMP",
        "outputId": "32358b0c-e31e-41cb-c03e-c828a74fa927"
      },
      "execution_count": null,
      "outputs": [
        {
          "output_type": "stream",
          "name": "stdout",
          "text": [
            "The language is in Hindi\n"
          ]
        }
      ]
    },
    {
      "cell_type": "code",
      "source": [
        "predict(\"моје име је Виллиам\")\n",
        "# This is Serbian (not in dataset)"
      ],
      "metadata": {
        "colab": {
          "base_uri": "https://localhost:8080/"
        },
        "id": "3M-Otl-XcRhp",
        "outputId": "eb860b19-5b03-491e-9ff1-0a2925b4880d"
      },
      "execution_count": null,
      "outputs": [
        {
          "output_type": "stream",
          "name": "stdout",
          "text": [
            "The language is in French\n"
          ]
        }
      ]
    },
    {
      "cell_type": "code",
      "execution_count": null,
      "metadata": {
        "colab": {
          "base_uri": "https://localhost:8080/"
        },
        "id": "TD4UpRoFLbBL",
        "outputId": "c025ceff-11c8-4f5e-f18c-30b4ac9ca923"
      },
      "outputs": [
        {
          "output_type": "stream",
          "name": "stdout",
          "text": [
            "=============================\n",
            "masukan kata\n",
            "이전 제품에서 온라인 플레이 기능을 비디오 게임 개발사에\n",
            "=============================\n",
            " \n",
            "The word inputed is 이전 제품에서 온라인 플레이 기능을 비디오 게임 개발사에\n",
            "The language is in Korean\n"
          ]
        }
      ],
      "source": [
        "print(\"=============================\")\n",
        "print(\"masukan kata\")\n",
        "text = input()\n",
        "print(\"=============================\")\n",
        "print(\" \")\n",
        "print(\"The word inputed is\", text)\n",
        "detct = (predict(text))"
      ]
    }
  ],
  "metadata": {
    "colab": {
      "collapsed_sections": [],
      "provenance": []
    },
    "kernelspec": {
      "display_name": "Python 3",
      "name": "python3"
    },
    "language_info": {
      "name": "python"
    }
  },
  "nbformat": 4,
  "nbformat_minor": 0
}