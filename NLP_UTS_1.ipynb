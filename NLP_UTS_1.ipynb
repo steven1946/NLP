{
  "nbformat": 4,
  "nbformat_minor": 0,
  "metadata": {
    "colab": {
      "provenance": [],
      "authorship_tag": "ABX9TyN1XxycRT9n8Vq6j7Kp3dhP"
    },
    "kernelspec": {
      "name": "python3",
      "display_name": "Python 3"
    },
    "language_info": {
      "name": "python"
    }
  },
  "cells": [
    {
      "cell_type": "code",
      "execution_count": null,
      "metadata": {
        "id": "YZUnbQffCJFk"
      },
      "outputs": [],
      "source": [
        "import re"
      ]
    },
    {
      "cell_type": "markdown",
      "source": [
        "re adalah library untuk regular expression"
      ],
      "metadata": {
        "id": "tZxeEja9HJ3C"
      }
    },
    {
      "cell_type": "code",
      "source": [
        "str = 'Indonesia memiliki nomor telpon +62215262578 sedangkan Malaysia +60358577 dan singapura +60388888000 Lalu untuk email edukasi ada beberapa domain misalnya jolly.wanda@bee.ac.id , jojo@bee.ac.uk , jolly.wanda@bee.edu , jojo@bee.edu.au'\n",
        "\n"
      ],
      "metadata": {
        "id": "F7Zcwu7_Ct1J"
      },
      "execution_count": null,
      "outputs": []
    },
    {
      "cell_type": "markdown",
      "source": [
        "saya membuat contoh string yang memiliki nomor telpon dan alamat email di dalamnya"
      ],
      "metadata": {
        "id": "9NTd4YjAHMfU"
      }
    },
    {
      "cell_type": "code",
      "source": [
        "re.findall(\"\\+\\d+\", str)"
      ],
      "metadata": {
        "colab": {
          "base_uri": "https://localhost:8080/"
        },
        "id": "PPuAK4syHGPK",
        "outputId": "059b25c0-b77b-4d9a-bc0d-9ba9f10c3854"
      },
      "execution_count": null,
      "outputs": [
        {
          "output_type": "execute_result",
          "data": {
            "text/plain": [
              "['+62215262578', '+60358577', '+60388888000']"
            ]
          },
          "metadata": {},
          "execution_count": 29
        }
      ]
    },
    {
      "cell_type": "markdown",
      "source": [
        "\\\\+ digunakan untuk menangkap symbol specific yaitu +\n",
        "\n",
        "\\d digunakan untuk menangkap semua angka dari 0-9\n",
        "\n",
        "{4,12} digunakan untuk repeat \\d minimum 4 kali dan maksimum 12 kali"
      ],
      "metadata": {
        "id": "u6PJrvI9HSch"
      }
    },
    {
      "cell_type": "code",
      "source": [
        "re.findall(\"[a-zA-Z0-9._-]+@[a-zA-Z.]+\\.[a-zA-Z]+\", str)"
      ],
      "metadata": {
        "colab": {
          "base_uri": "https://localhost:8080/"
        },
        "id": "DVpRnIXDFtrO",
        "outputId": "75b8a210-b086-4634-e763-c0ead6168b8e"
      },
      "execution_count": null,
      "outputs": [
        {
          "output_type": "execute_result",
          "data": {
            "text/plain": [
              "['jolly.wanda@bee.ac.id',\n",
              " 'jojo@bee.ac.uk',\n",
              " 'jolly.wanda@bee.edu',\n",
              " 'jojo@bee.edu.au']"
            ]
          },
          "metadata": {},
          "execution_count": 31
        }
      ]
    },
    {
      "cell_type": "markdown",
      "source": [
        "[a-zA-Z0-9._-] pertama digunakan untuk memasukkan seluruh string yang ada sebelum @ huruf kecil, huruf besar, angka, .(titik), _(underscore), dan -(strip)\n",
        "\n",
        "\\+ digunakan untuk memasukkan syarat sebelumnya kepada 1 atau lebih huruf sampai akhir string tersebut yang masih sesuai\n",
        "\n",
        "@ untuk menangkap symbol specific yaitu @\n",
        "\n",
        "Lalu untuk \\. tujuannya untuk menangkap symbol specific yaitu .(titik) sebelum akhir string\n",
        "\n",
        "dan ditutup dengan huruf kecil maupun besar sampai akhir string"
      ],
      "metadata": {
        "id": "_tt0ESVwICMt"
      }
    },
    {
      "cell_type": "markdown",
      "source": [],
      "metadata": {
        "id": "wPmN7QLlHm6h"
      }
    }
  ]
}