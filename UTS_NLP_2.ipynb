{
  "nbformat": 4,
  "nbformat_minor": 0,
  "metadata": {
    "colab": {
      "provenance": [],
      "collapsed_sections": [],
      "authorship_tag": "ABX9TyODXDoMsuPTg7gnxe/njjEd"
    },
    "kernelspec": {
      "name": "python3",
      "display_name": "Python 3"
    },
    "language_info": {
      "name": "python"
    }
  },
  "cells": [
    {
      "cell_type": "code",
      "execution_count": null,
      "metadata": {
        "colab": {
          "base_uri": "https://localhost:8080/"
        },
        "id": "QsLZ9S5Q7rWc",
        "outputId": "3998a077-052b-441d-92ba-9f6f84df53e0"
      },
      "outputs": [
        {
          "output_type": "stream",
          "name": "stdout",
          "text": [
            "[nltk_data] Downloading package punkt to /root/nltk_data...\n",
            "[nltk_data]   Unzipping tokenizers/punkt.zip.\n",
            "[nltk_data] Downloading package averaged_perceptron_tagger to\n",
            "[nltk_data]     /root/nltk_data...\n",
            "[nltk_data]   Unzipping taggers/averaged_perceptron_tagger.zip.\n"
          ]
        },
        {
          "output_type": "execute_result",
          "data": {
            "text/plain": [
              "True"
            ]
          },
          "metadata": {},
          "execution_count": 1
        }
      ],
      "source": [
        "import nltk\n",
        "nltk.download('punkt')\n",
        "nltk.download('averaged_perceptron_tagger')"
      ]
    },
    {
      "cell_type": "code",
      "source": [
        "a = \"Social Signal Processing can be considered as blue-sky research in the Artificial Intelligence area.\"\n",
        "b = \"Please book me a flight to Indonesia. I am planning to visit Jojo Academy this week.\"\n",
        "c = \"I think therefore I am the first principle of Rene Descartes’s philosophy.\"\n",
        "print(a)\n",
        "print(b)\n",
        "print(c)"
      ],
      "metadata": {
        "colab": {
          "base_uri": "https://localhost:8080/"
        },
        "id": "6OtyWjfC8C8m",
        "outputId": "f3bafcac-4b29-4fe4-c8c9-82fc2f18ee36"
      },
      "execution_count": null,
      "outputs": [
        {
          "output_type": "stream",
          "name": "stdout",
          "text": [
            "Social Signal Processing can be considered as blue-sky research in the Artificial Intelligence area.\n",
            "Please book me a flight to Indonesia. I am planning to visit Jojo Academy this week.\n",
            "I think therefore I am the first principle of Rene Descartes’s philosophy.\n"
          ]
        }
      ]
    },
    {
      "cell_type": "markdown",
      "source": [
        "word_tokenize digunakan untuk split kalimat menjadi kata per kata, token inilah yang nanti akan dipakai untuk di tagging karena tagging membutuhkan 1 kata saja"
      ],
      "metadata": {
        "id": "kyduCQ7Y8Zcj"
      }
    },
    {
      "cell_type": "code",
      "source": [
        "token_a = nltk.word_tokenize(a)\n",
        "token_b = nltk.word_tokenize(b)\n",
        "token_c = nltk.word_tokenize(c)\n",
        "print(token_a)\n",
        "print(token_b)\n",
        "print(token_c)"
      ],
      "metadata": {
        "colab": {
          "base_uri": "https://localhost:8080/"
        },
        "id": "rtfF-8G58J68",
        "outputId": "f3151fb0-0a56-415c-f3bb-6a926aa9af4b"
      },
      "execution_count": null,
      "outputs": [
        {
          "output_type": "stream",
          "name": "stdout",
          "text": [
            "['Social', 'Signal', 'Processing', 'can', 'be', 'considered', 'as', 'blue-sky', 'research', 'in', 'the', 'Artificial', 'Intelligence', 'area', '.']\n",
            "['Please', 'book', 'me', 'a', 'flight', 'to', 'Indonesia', '.', 'I', 'am', 'planning', 'to', 'visit', 'Jojo', 'Academy', 'this', 'week', '.']\n",
            "['I', 'think', 'therefore', 'I', 'am', 'the', 'first', 'principle', 'of', 'Rene', 'Descartes', '’', 's', 'philosophy', '.']\n"
          ]
        }
      ]
    },
    {
      "cell_type": "markdown",
      "source": [
        "selanjutkan kita akan menggunakan pos_tag untuk menandakan kata tersebut termasuk bagian apa. Misalnya Social di tag sebagai NNP yaitu singular noun"
      ],
      "metadata": {
        "id": "yserNhqs9qt7"
      }
    },
    {
      "cell_type": "code",
      "source": [
        "nltk.pos_tag(token_a)"
      ],
      "metadata": {
        "colab": {
          "base_uri": "https://localhost:8080/"
        },
        "id": "lhP9A9jX8pmp",
        "outputId": "dab5a81d-cb93-44ec-ee48-60e7a3d849d1"
      },
      "execution_count": null,
      "outputs": [
        {
          "output_type": "execute_result",
          "data": {
            "text/plain": [
              "[('Social', 'NNP'),\n",
              " ('Signal', 'NNP'),\n",
              " ('Processing', 'NNP'),\n",
              " ('can', 'MD'),\n",
              " ('be', 'VB'),\n",
              " ('considered', 'VBN'),\n",
              " ('as', 'IN'),\n",
              " ('blue-sky', 'JJ'),\n",
              " ('research', 'NN'),\n",
              " ('in', 'IN'),\n",
              " ('the', 'DT'),\n",
              " ('Artificial', 'NNP'),\n",
              " ('Intelligence', 'NNP'),\n",
              " ('area', 'NN'),\n",
              " ('.', '.')]"
            ]
          },
          "metadata": {},
          "execution_count": 7
        }
      ]
    },
    {
      "cell_type": "code",
      "source": [
        "nltk.pos_tag(token_b)"
      ],
      "metadata": {
        "colab": {
          "base_uri": "https://localhost:8080/"
        },
        "id": "De0F0Jk98v8A",
        "outputId": "8a186e02-d863-456b-bc90-887fc7049fb5"
      },
      "execution_count": null,
      "outputs": [
        {
          "output_type": "execute_result",
          "data": {
            "text/plain": [
              "[('Please', 'VB'),\n",
              " ('book', 'NN'),\n",
              " ('me', 'PRP'),\n",
              " ('a', 'DT'),\n",
              " ('flight', 'NN'),\n",
              " ('to', 'TO'),\n",
              " ('Indonesia', 'NNP'),\n",
              " ('.', '.'),\n",
              " ('I', 'PRP'),\n",
              " ('am', 'VBP'),\n",
              " ('planning', 'VBG'),\n",
              " ('to', 'TO'),\n",
              " ('visit', 'VB'),\n",
              " ('Jojo', 'NNP'),\n",
              " ('Academy', 'NNP'),\n",
              " ('this', 'DT'),\n",
              " ('week', 'NN'),\n",
              " ('.', '.')]"
            ]
          },
          "metadata": {},
          "execution_count": 8
        }
      ]
    },
    {
      "cell_type": "code",
      "source": [
        "nltk.pos_tag(token_c)"
      ],
      "metadata": {
        "colab": {
          "base_uri": "https://localhost:8080/"
        },
        "id": "kf-SNcWR8wZq",
        "outputId": "7cb94697-f7f5-434f-ecf4-b8f1dc875d68"
      },
      "execution_count": null,
      "outputs": [
        {
          "output_type": "execute_result",
          "data": {
            "text/plain": [
              "[('I', 'PRP'),\n",
              " ('think', 'VBP'),\n",
              " ('therefore', 'RB'),\n",
              " ('I', 'PRP'),\n",
              " ('am', 'VBP'),\n",
              " ('the', 'DT'),\n",
              " ('first', 'JJ'),\n",
              " ('principle', 'NN'),\n",
              " ('of', 'IN'),\n",
              " ('Rene', 'NNP'),\n",
              " ('Descartes', 'NNP'),\n",
              " ('’', 'NNP'),\n",
              " ('s', 'VBD'),\n",
              " ('philosophy', 'NN'),\n",
              " ('.', '.')]"
            ]
          },
          "metadata": {},
          "execution_count": 9
        }
      ]
    }
  ]
}