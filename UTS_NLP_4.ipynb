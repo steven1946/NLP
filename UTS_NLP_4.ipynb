{
  "nbformat": 4,
  "nbformat_minor": 0,
  "metadata": {
    "colab": {
      "provenance": [],
      "collapsed_sections": [],
      "authorship_tag": "ABX9TyPJkrRIe19CaQczfryjbdmj"
    },
    "kernelspec": {
      "name": "python3",
      "display_name": "Python 3"
    },
    "language_info": {
      "name": "python"
    }
  },
  "cells": [
    {
      "cell_type": "code",
      "source": [
        "import pandas as pd\n",
        "import nltk\n",
        "nltk.download('punkt')"
      ],
      "metadata": {
        "colab": {
          "base_uri": "https://localhost:8080/"
        },
        "id": "tUuR4s5UVCVc",
        "outputId": "bb342428-fc6a-428a-a12e-f0cc0da0aaf5"
      },
      "execution_count": null,
      "outputs": [
        {
          "output_type": "stream",
          "name": "stdout",
          "text": [
            "[nltk_data] Downloading package punkt to /root/nltk_data...\n",
            "[nltk_data]   Package punkt is already up-to-date!\n"
          ]
        },
        {
          "output_type": "execute_result",
          "data": {
            "text/plain": [
              "True"
            ]
          },
          "metadata": {},
          "execution_count": 45
        }
      ]
    },
    {
      "cell_type": "code",
      "execution_count": null,
      "metadata": {
        "id": "s7htuvDtXZsm"
      },
      "outputs": [],
      "source": [
        "model = \"<s> Saya suka dengan makanan laut </s> <s> Saya suka dengan minuman yang manis </s> <s> Kemarin saya makan makanan laut </s> <s> Hari ini saya makan makanan khas Sunda </s> <s> Besok saya berencana makan makanan khas Betawi </s> <s> Kemarin saya makan roti </s> <s> Hari ini saya makan Pizza </s> <s> Besok saya berencana makan Burger </s> <s> Hari ini saya minum teh tawar </s> <s> Kemarin saya minum Coca Cola </s> <s> Besok saya berencana minum kopi </s> <s> Lusa saya berencana minum teh manis </s>\""
      ]
    },
    {
      "cell_type": "markdown",
      "source": [
        "Pertama kita melakukan pre processing dulu dengan membuat semua huruf menjadi huruf kecil sehingga tidak ada perbedaan dalam kata yang sama"
      ],
      "metadata": {
        "id": "aCORp7ZkaDbf"
      }
    },
    {
      "cell_type": "code",
      "source": [
        "def preprocess(model):\n",
        "    model = model.lower()\n",
        "    return model\n",
        "model=preprocess(model)\n",
        "print(\"Preprocessed Data corpus = \\n\",model)"
      ],
      "metadata": {
        "colab": {
          "base_uri": "https://localhost:8080/"
        },
        "id": "yao2Q6FFVOJJ",
        "outputId": "e0c38cf5-9914-4cb1-a8c6-778242b0bad6"
      },
      "execution_count": null,
      "outputs": [
        {
          "output_type": "stream",
          "name": "stdout",
          "text": [
            "Preprocessed Data corpus = \n",
            " <s> saya suka dengan makanan laut </s> <s> saya suka dengan minuman yang manis </s> <s> kemarin saya makan makanan laut </s> <s> hari ini saya makan makanan khas sunda </s> <s> besok saya berencana makan makanan khas betawi </s> <s> kemarin saya makan roti </s> <s> hari ini saya makan pizza </s> <s> besok saya berencana makan burger </s> <s> hari ini saya minum teh tawar </s> <s> kemarin saya minum coca cola </s> <s> besok saya berencana minum kopi </s> <s> lusa saya berencana minum teh manis </s>\n"
          ]
        }
      ]
    },
    {
      "cell_type": "markdown",
      "source": [
        "Lalu kita tokenize dataset kita sehingga tidak ada duplikat"
      ],
      "metadata": {
        "id": "F2Yx8EeRafK_"
      }
    },
    {
      "cell_type": "code",
      "source": [
        "def generate_tokens(model):\n",
        "    tokens = word_tokenize(model)\n",
        "    return tokens\n",
        "tokens=generate_tokens(model)\n",
        "distinct_tokens = list(set(sorted(tokens)))\n",
        "print(\"Tokens in the corpus = \\n\",distinct_tokens)"
      ],
      "metadata": {
        "colab": {
          "base_uri": "https://localhost:8080/"
        },
        "id": "9mKMk9TxWyQ-",
        "outputId": "cfbd5c1b-2d7d-4e3c-d97b-36a320ddc54e"
      },
      "execution_count": null,
      "outputs": [
        {
          "output_type": "stream",
          "name": "stdout",
          "text": [
            "Tokens in the corpus = \n",
            " ['tawar', 'betawi', 'minuman', 'cola', 'lusa', 'minum', '/s', 'pizza', 's', 'hari', 'yang', 'khas', 'berencana', 'dengan', 'kopi', 'suka', 'teh', 'laut', 'sunda', 'manis', 'makanan', 'burger', 'roti', '>', 'besok', 'saya', 'ini', '<', 'makan', 'kemarin', 'coca']\n"
          ]
        }
      ]
    },
    {
      "cell_type": "markdown",
      "source": [
        "Lalu kita melihat frekuensi dari setiap tokennya"
      ],
      "metadata": {
        "id": "pK8q_tISaqM-"
      }
    },
    {
      "cell_type": "code",
      "source": [
        "def generate_tokens_freq(tokens):\n",
        "    dct={}\n",
        "    for i in tokens:\n",
        "        dct[i]=0\n",
        "    for i in tokens:\n",
        "        dct[i]+=1\n",
        "    return dct\n",
        "dct=generate_tokens_freq(tokens)\n",
        "print(\"Frequency of each tokens = \")\n",
        "for i in dct.items():\n",
        "    print(i[0],\"\\t:\" , i[1])"
      ],
      "metadata": {
        "colab": {
          "base_uri": "https://localhost:8080/"
        },
        "id": "6agdPfoZW11_",
        "outputId": "382aa637-2f12-45fb-c4dd-22764e042b43"
      },
      "execution_count": null,
      "outputs": [
        {
          "output_type": "stream",
          "name": "stdout",
          "text": [
            "Frequency of each tokens = \n",
            "< \t: 24\n",
            "s \t: 12\n",
            "> \t: 24\n",
            "saya \t: 12\n",
            "suka \t: 2\n",
            "dengan \t: 2\n",
            "makanan \t: 4\n",
            "laut \t: 2\n",
            "/s \t: 12\n",
            "minuman \t: 1\n",
            "yang \t: 1\n",
            "manis \t: 2\n",
            "kemarin \t: 3\n",
            "makan \t: 6\n",
            "hari \t: 3\n",
            "ini \t: 3\n",
            "khas \t: 2\n",
            "sunda \t: 1\n",
            "besok \t: 3\n",
            "berencana \t: 4\n",
            "betawi \t: 1\n",
            "roti \t: 1\n",
            "pizza \t: 1\n",
            "burger \t: 1\n",
            "minum \t: 4\n",
            "teh \t: 2\n",
            "tawar \t: 1\n",
            "coca \t: 1\n",
            "cola \t: 1\n",
            "kopi \t: 1\n",
            "lusa \t: 1\n"
          ]
        }
      ]
    },
    {
      "cell_type": "markdown",
      "source": [
        "Sekarang kita akan generate ngrams dengan bigram"
      ],
      "metadata": {
        "id": "pvz230I5asBW"
      }
    },
    {
      "cell_type": "code",
      "source": [
        "def generate_ngrams(tokens,k):\n",
        "    l=[]\n",
        "    i=0\n",
        "    while(i<len(tokens)):\n",
        "        l.append(tokens[i:i+k])\n",
        "        i=i+1\n",
        "    l=l[:-1]\n",
        "    return l\n",
        "bigram = generate_ngrams(tokens,2)\n",
        "print(\"N-grams generated (Here n is 2) = \")\n",
        "for i in bigram:\n",
        "    print(i)"
      ],
      "metadata": {
        "colab": {
          "base_uri": "https://localhost:8080/"
        },
        "id": "ju-b6N9xXZUI",
        "outputId": "4fd92550-7f88-424a-e5d4-3ae9c3850877"
      },
      "execution_count": null,
      "outputs": [
        {
          "output_type": "stream",
          "name": "stdout",
          "text": [
            "N-grams generated (Here n is 2) = \n",
            "['<', 's']\n",
            "['s', '>']\n",
            "['>', 'saya']\n",
            "['saya', 'suka']\n",
            "['suka', 'dengan']\n",
            "['dengan', 'makanan']\n",
            "['makanan', 'laut']\n",
            "['laut', '<']\n",
            "['<', '/s']\n",
            "['/s', '>']\n",
            "['>', '<']\n",
            "['<', 's']\n",
            "['s', '>']\n",
            "['>', 'saya']\n",
            "['saya', 'suka']\n",
            "['suka', 'dengan']\n",
            "['dengan', 'minuman']\n",
            "['minuman', 'yang']\n",
            "['yang', 'manis']\n",
            "['manis', '<']\n",
            "['<', '/s']\n",
            "['/s', '>']\n",
            "['>', '<']\n",
            "['<', 's']\n",
            "['s', '>']\n",
            "['>', 'kemarin']\n",
            "['kemarin', 'saya']\n",
            "['saya', 'makan']\n",
            "['makan', 'makanan']\n",
            "['makanan', 'laut']\n",
            "['laut', '<']\n",
            "['<', '/s']\n",
            "['/s', '>']\n",
            "['>', '<']\n",
            "['<', 's']\n",
            "['s', '>']\n",
            "['>', 'hari']\n",
            "['hari', 'ini']\n",
            "['ini', 'saya']\n",
            "['saya', 'makan']\n",
            "['makan', 'makanan']\n",
            "['makanan', 'khas']\n",
            "['khas', 'sunda']\n",
            "['sunda', '<']\n",
            "['<', '/s']\n",
            "['/s', '>']\n",
            "['>', '<']\n",
            "['<', 's']\n",
            "['s', '>']\n",
            "['>', 'besok']\n",
            "['besok', 'saya']\n",
            "['saya', 'berencana']\n",
            "['berencana', 'makan']\n",
            "['makan', 'makanan']\n",
            "['makanan', 'khas']\n",
            "['khas', 'betawi']\n",
            "['betawi', '<']\n",
            "['<', '/s']\n",
            "['/s', '>']\n",
            "['>', '<']\n",
            "['<', 's']\n",
            "['s', '>']\n",
            "['>', 'kemarin']\n",
            "['kemarin', 'saya']\n",
            "['saya', 'makan']\n",
            "['makan', 'roti']\n",
            "['roti', '<']\n",
            "['<', '/s']\n",
            "['/s', '>']\n",
            "['>', '<']\n",
            "['<', 's']\n",
            "['s', '>']\n",
            "['>', 'hari']\n",
            "['hari', 'ini']\n",
            "['ini', 'saya']\n",
            "['saya', 'makan']\n",
            "['makan', 'pizza']\n",
            "['pizza', '<']\n",
            "['<', '/s']\n",
            "['/s', '>']\n",
            "['>', '<']\n",
            "['<', 's']\n",
            "['s', '>']\n",
            "['>', 'besok']\n",
            "['besok', 'saya']\n",
            "['saya', 'berencana']\n",
            "['berencana', 'makan']\n",
            "['makan', 'burger']\n",
            "['burger', '<']\n",
            "['<', '/s']\n",
            "['/s', '>']\n",
            "['>', '<']\n",
            "['<', 's']\n",
            "['s', '>']\n",
            "['>', 'hari']\n",
            "['hari', 'ini']\n",
            "['ini', 'saya']\n",
            "['saya', 'minum']\n",
            "['minum', 'teh']\n",
            "['teh', 'tawar']\n",
            "['tawar', '<']\n",
            "['<', '/s']\n",
            "['/s', '>']\n",
            "['>', '<']\n",
            "['<', 's']\n",
            "['s', '>']\n",
            "['>', 'kemarin']\n",
            "['kemarin', 'saya']\n",
            "['saya', 'minum']\n",
            "['minum', 'coca']\n",
            "['coca', 'cola']\n",
            "['cola', '<']\n",
            "['<', '/s']\n",
            "['/s', '>']\n",
            "['>', '<']\n",
            "['<', 's']\n",
            "['s', '>']\n",
            "['>', 'besok']\n",
            "['besok', 'saya']\n",
            "['saya', 'berencana']\n",
            "['berencana', 'minum']\n",
            "['minum', 'kopi']\n",
            "['kopi', '<']\n",
            "['<', '/s']\n",
            "['/s', '>']\n",
            "['>', '<']\n",
            "['<', 's']\n",
            "['s', '>']\n",
            "['>', 'lusa']\n",
            "['lusa', 'saya']\n",
            "['saya', 'berencana']\n",
            "['berencana', 'minum']\n",
            "['minum', 'teh']\n",
            "['teh', 'manis']\n",
            "['manis', '<']\n",
            "['<', '/s']\n",
            "['/s', '>']\n"
          ]
        }
      ]
    },
    {
      "cell_type": "markdown",
      "source": [
        "Generate frekeunsi dari setiap bigram"
      ],
      "metadata": {
        "id": "tUB-G0Wnaz3Q"
      }
    },
    {
      "cell_type": "code",
      "source": [
        "def generate_ngram_freq(bigram):\n",
        "    dct1={}\n",
        "    for i in bigram:\n",
        "        st=\" \".join(i)\n",
        "        dct1[st]=0\n",
        "    for i in bigram:\n",
        "        st=\" \".join(i)\n",
        "        dct1[st]+=1\n",
        "    return dct1\n",
        "dct1=generate_ngram_freq(bigram)\n",
        "print(\"Frequency of n-grams = \")\n",
        "for i in dct1.items():\n",
        "    print(i[0], \":\", i[1])"
      ],
      "metadata": {
        "colab": {
          "base_uri": "https://localhost:8080/"
        },
        "id": "Z4cP9Z-0XaPW",
        "outputId": "a7d30ce1-dbf5-4d2a-c211-73205b08f142"
      },
      "execution_count": null,
      "outputs": [
        {
          "output_type": "stream",
          "name": "stdout",
          "text": [
            "Frequency of n-grams = \n",
            "< s : 12\n",
            "s > : 12\n",
            "> saya : 2\n",
            "saya suka : 2\n",
            "suka dengan : 2\n",
            "dengan makanan : 1\n",
            "makanan laut : 2\n",
            "laut < : 2\n",
            "< /s : 12\n",
            "/s > : 12\n",
            "> < : 11\n",
            "dengan minuman : 1\n",
            "minuman yang : 1\n",
            "yang manis : 1\n",
            "manis < : 2\n",
            "> kemarin : 3\n",
            "kemarin saya : 3\n",
            "saya makan : 4\n",
            "makan makanan : 3\n",
            "> hari : 3\n",
            "hari ini : 3\n",
            "ini saya : 3\n",
            "makanan khas : 2\n",
            "khas sunda : 1\n",
            "sunda < : 1\n",
            "> besok : 3\n",
            "besok saya : 3\n",
            "saya berencana : 4\n",
            "berencana makan : 2\n",
            "khas betawi : 1\n",
            "betawi < : 1\n",
            "makan roti : 1\n",
            "roti < : 1\n",
            "makan pizza : 1\n",
            "pizza < : 1\n",
            "makan burger : 1\n",
            "burger < : 1\n",
            "saya minum : 2\n",
            "minum teh : 2\n",
            "teh tawar : 1\n",
            "tawar < : 1\n",
            "minum coca : 1\n",
            "coca cola : 1\n",
            "cola < : 1\n",
            "berencana minum : 2\n",
            "minum kopi : 1\n",
            "kopi < : 1\n",
            "> lusa : 1\n",
            "lusa saya : 1\n",
            "teh manis : 1\n"
          ]
        }
      ]
    },
    {
      "cell_type": "markdown",
      "source": [
        "Lalu kita mau membuat table frekuensi dari setiap bigramnya dengan pasangan kata lainnya"
      ],
      "metadata": {
        "id": "7TVSAAnqa4Ah"
      }
    },
    {
      "cell_type": "code",
      "source": [
        "def find1(s,dct1):\n",
        "    try:\n",
        "        return dct1[s]\n",
        "    except:\n",
        "        return 0\n",
        "def print_probability_table(distinct_tokens,dct,dct1):\n",
        "    n=len(distinct_tokens)\n",
        "    l=[[]*n for i in range(n)]\n",
        "    for i in range(n):\n",
        "        denominator = dct[distinct_tokens[i]]\n",
        "        for j in range(n):\n",
        "            numerator = find1(distinct_tokens[i]+\" \"+distinct_tokens[j],dct1)\n",
        "            l[i].append(float(\"{:.3f}\".format(numerator/denominator)))\n",
        "    return l"
      ],
      "metadata": {
        "id": "kRlLjFS9Xcl8"
      },
      "execution_count": null,
      "outputs": []
    },
    {
      "cell_type": "code",
      "source": [
        "print(\"Probability table = \\n\")\n",
        "probability_table=print_probability_table(distinct_tokens,dct,dct1)\n",
        "n=len(distinct_tokens)\n",
        "print(\"\\t\", end=\"\")\n",
        "for i in range(n):\n",
        "    print(distinct_tokens[i],end=\"\\t\")\n",
        "print(\"\\n\")\n",
        "for i in range(n):\n",
        "    print(distinct_tokens[i],end=\"\\t\")\n",
        "    for j in range(n):\n",
        "        print(probability_table[i][j],end=\"\\t\")\n",
        "    print(\"\\n\")"
      ],
      "metadata": {
        "colab": {
          "base_uri": "https://localhost:8080/"
        },
        "id": "VtiCb3b3XfcM",
        "outputId": "6b14dc1b-b702-462c-8767-a5dcef8e3ead"
      },
      "execution_count": null,
      "outputs": [
        {
          "output_type": "stream",
          "name": "stdout",
          "text": [
            "Probability table = \n",
            "\n",
            "\ttawar\tbetawi\tminuman\tcola\tlusa\tminum\t/s\tpizza\ts\thari\tyang\tkhas\tberencana\tdengan\tkopi\tsuka\tteh\tlaut\tsunda\tmanis\tmakanan\tburger\troti\t>\tbesok\tsaya\tini\t<\tmakan\tkemarin\tcoca\t\n",
            "\n",
            "tawar\t0.0\t0.0\t0.0\t0.0\t0.0\t0.0\t0.0\t0.0\t0.0\t0.0\t0.0\t0.0\t0.0\t0.0\t0.0\t0.0\t0.0\t0.0\t0.0\t0.0\t0.0\t0.0\t0.0\t0.0\t0.0\t0.0\t0.0\t1.0\t0.0\t0.0\t0.0\t\n",
            "\n",
            "betawi\t0.0\t0.0\t0.0\t0.0\t0.0\t0.0\t0.0\t0.0\t0.0\t0.0\t0.0\t0.0\t0.0\t0.0\t0.0\t0.0\t0.0\t0.0\t0.0\t0.0\t0.0\t0.0\t0.0\t0.0\t0.0\t0.0\t0.0\t1.0\t0.0\t0.0\t0.0\t\n",
            "\n",
            "minuman\t0.0\t0.0\t0.0\t0.0\t0.0\t0.0\t0.0\t0.0\t0.0\t0.0\t1.0\t0.0\t0.0\t0.0\t0.0\t0.0\t0.0\t0.0\t0.0\t0.0\t0.0\t0.0\t0.0\t0.0\t0.0\t0.0\t0.0\t0.0\t0.0\t0.0\t0.0\t\n",
            "\n",
            "cola\t0.0\t0.0\t0.0\t0.0\t0.0\t0.0\t0.0\t0.0\t0.0\t0.0\t0.0\t0.0\t0.0\t0.0\t0.0\t0.0\t0.0\t0.0\t0.0\t0.0\t0.0\t0.0\t0.0\t0.0\t0.0\t0.0\t0.0\t1.0\t0.0\t0.0\t0.0\t\n",
            "\n",
            "lusa\t0.0\t0.0\t0.0\t0.0\t0.0\t0.0\t0.0\t0.0\t0.0\t0.0\t0.0\t0.0\t0.0\t0.0\t0.0\t0.0\t0.0\t0.0\t0.0\t0.0\t0.0\t0.0\t0.0\t0.0\t0.0\t1.0\t0.0\t0.0\t0.0\t0.0\t0.0\t\n",
            "\n",
            "minum\t0.0\t0.0\t0.0\t0.0\t0.0\t0.0\t0.0\t0.0\t0.0\t0.0\t0.0\t0.0\t0.0\t0.0\t0.25\t0.0\t0.5\t0.0\t0.0\t0.0\t0.0\t0.0\t0.0\t0.0\t0.0\t0.0\t0.0\t0.0\t0.0\t0.0\t0.25\t\n",
            "\n",
            "/s\t0.0\t0.0\t0.0\t0.0\t0.0\t0.0\t0.0\t0.0\t0.0\t0.0\t0.0\t0.0\t0.0\t0.0\t0.0\t0.0\t0.0\t0.0\t0.0\t0.0\t0.0\t0.0\t0.0\t1.0\t0.0\t0.0\t0.0\t0.0\t0.0\t0.0\t0.0\t\n",
            "\n",
            "pizza\t0.0\t0.0\t0.0\t0.0\t0.0\t0.0\t0.0\t0.0\t0.0\t0.0\t0.0\t0.0\t0.0\t0.0\t0.0\t0.0\t0.0\t0.0\t0.0\t0.0\t0.0\t0.0\t0.0\t0.0\t0.0\t0.0\t0.0\t1.0\t0.0\t0.0\t0.0\t\n",
            "\n",
            "s\t0.0\t0.0\t0.0\t0.0\t0.0\t0.0\t0.0\t0.0\t0.0\t0.0\t0.0\t0.0\t0.0\t0.0\t0.0\t0.0\t0.0\t0.0\t0.0\t0.0\t0.0\t0.0\t0.0\t1.0\t0.0\t0.0\t0.0\t0.0\t0.0\t0.0\t0.0\t\n",
            "\n",
            "hari\t0.0\t0.0\t0.0\t0.0\t0.0\t0.0\t0.0\t0.0\t0.0\t0.0\t0.0\t0.0\t0.0\t0.0\t0.0\t0.0\t0.0\t0.0\t0.0\t0.0\t0.0\t0.0\t0.0\t0.0\t0.0\t0.0\t1.0\t0.0\t0.0\t0.0\t0.0\t\n",
            "\n",
            "yang\t0.0\t0.0\t0.0\t0.0\t0.0\t0.0\t0.0\t0.0\t0.0\t0.0\t0.0\t0.0\t0.0\t0.0\t0.0\t0.0\t0.0\t0.0\t0.0\t1.0\t0.0\t0.0\t0.0\t0.0\t0.0\t0.0\t0.0\t0.0\t0.0\t0.0\t0.0\t\n",
            "\n",
            "khas\t0.0\t0.5\t0.0\t0.0\t0.0\t0.0\t0.0\t0.0\t0.0\t0.0\t0.0\t0.0\t0.0\t0.0\t0.0\t0.0\t0.0\t0.0\t0.5\t0.0\t0.0\t0.0\t0.0\t0.0\t0.0\t0.0\t0.0\t0.0\t0.0\t0.0\t0.0\t\n",
            "\n",
            "berencana\t0.0\t0.0\t0.0\t0.0\t0.0\t0.5\t0.0\t0.0\t0.0\t0.0\t0.0\t0.0\t0.0\t0.0\t0.0\t0.0\t0.0\t0.0\t0.0\t0.0\t0.0\t0.0\t0.0\t0.0\t0.0\t0.0\t0.0\t0.0\t0.5\t0.0\t0.0\t\n",
            "\n",
            "dengan\t0.0\t0.0\t0.5\t0.0\t0.0\t0.0\t0.0\t0.0\t0.0\t0.0\t0.0\t0.0\t0.0\t0.0\t0.0\t0.0\t0.0\t0.0\t0.0\t0.0\t0.5\t0.0\t0.0\t0.0\t0.0\t0.0\t0.0\t0.0\t0.0\t0.0\t0.0\t\n",
            "\n",
            "kopi\t0.0\t0.0\t0.0\t0.0\t0.0\t0.0\t0.0\t0.0\t0.0\t0.0\t0.0\t0.0\t0.0\t0.0\t0.0\t0.0\t0.0\t0.0\t0.0\t0.0\t0.0\t0.0\t0.0\t0.0\t0.0\t0.0\t0.0\t1.0\t0.0\t0.0\t0.0\t\n",
            "\n",
            "suka\t0.0\t0.0\t0.0\t0.0\t0.0\t0.0\t0.0\t0.0\t0.0\t0.0\t0.0\t0.0\t0.0\t1.0\t0.0\t0.0\t0.0\t0.0\t0.0\t0.0\t0.0\t0.0\t0.0\t0.0\t0.0\t0.0\t0.0\t0.0\t0.0\t0.0\t0.0\t\n",
            "\n",
            "teh\t0.5\t0.0\t0.0\t0.0\t0.0\t0.0\t0.0\t0.0\t0.0\t0.0\t0.0\t0.0\t0.0\t0.0\t0.0\t0.0\t0.0\t0.0\t0.0\t0.5\t0.0\t0.0\t0.0\t0.0\t0.0\t0.0\t0.0\t0.0\t0.0\t0.0\t0.0\t\n",
            "\n",
            "laut\t0.0\t0.0\t0.0\t0.0\t0.0\t0.0\t0.0\t0.0\t0.0\t0.0\t0.0\t0.0\t0.0\t0.0\t0.0\t0.0\t0.0\t0.0\t0.0\t0.0\t0.0\t0.0\t0.0\t0.0\t0.0\t0.0\t0.0\t1.0\t0.0\t0.0\t0.0\t\n",
            "\n",
            "sunda\t0.0\t0.0\t0.0\t0.0\t0.0\t0.0\t0.0\t0.0\t0.0\t0.0\t0.0\t0.0\t0.0\t0.0\t0.0\t0.0\t0.0\t0.0\t0.0\t0.0\t0.0\t0.0\t0.0\t0.0\t0.0\t0.0\t0.0\t1.0\t0.0\t0.0\t0.0\t\n",
            "\n",
            "manis\t0.0\t0.0\t0.0\t0.0\t0.0\t0.0\t0.0\t0.0\t0.0\t0.0\t0.0\t0.0\t0.0\t0.0\t0.0\t0.0\t0.0\t0.0\t0.0\t0.0\t0.0\t0.0\t0.0\t0.0\t0.0\t0.0\t0.0\t1.0\t0.0\t0.0\t0.0\t\n",
            "\n",
            "makanan\t0.0\t0.0\t0.0\t0.0\t0.0\t0.0\t0.0\t0.0\t0.0\t0.0\t0.0\t0.5\t0.0\t0.0\t0.0\t0.0\t0.0\t0.5\t0.0\t0.0\t0.0\t0.0\t0.0\t0.0\t0.0\t0.0\t0.0\t0.0\t0.0\t0.0\t0.0\t\n",
            "\n",
            "burger\t0.0\t0.0\t0.0\t0.0\t0.0\t0.0\t0.0\t0.0\t0.0\t0.0\t0.0\t0.0\t0.0\t0.0\t0.0\t0.0\t0.0\t0.0\t0.0\t0.0\t0.0\t0.0\t0.0\t0.0\t0.0\t0.0\t0.0\t1.0\t0.0\t0.0\t0.0\t\n",
            "\n",
            "roti\t0.0\t0.0\t0.0\t0.0\t0.0\t0.0\t0.0\t0.0\t0.0\t0.0\t0.0\t0.0\t0.0\t0.0\t0.0\t0.0\t0.0\t0.0\t0.0\t0.0\t0.0\t0.0\t0.0\t0.0\t0.0\t0.0\t0.0\t1.0\t0.0\t0.0\t0.0\t\n",
            "\n",
            ">\t0.0\t0.0\t0.0\t0.0\t0.042\t0.0\t0.0\t0.0\t0.0\t0.125\t0.0\t0.0\t0.0\t0.0\t0.0\t0.0\t0.0\t0.0\t0.0\t0.0\t0.0\t0.0\t0.0\t0.0\t0.125\t0.083\t0.0\t0.458\t0.0\t0.125\t0.0\t\n",
            "\n",
            "besok\t0.0\t0.0\t0.0\t0.0\t0.0\t0.0\t0.0\t0.0\t0.0\t0.0\t0.0\t0.0\t0.0\t0.0\t0.0\t0.0\t0.0\t0.0\t0.0\t0.0\t0.0\t0.0\t0.0\t0.0\t0.0\t1.0\t0.0\t0.0\t0.0\t0.0\t0.0\t\n",
            "\n",
            "saya\t0.0\t0.0\t0.0\t0.0\t0.0\t0.167\t0.0\t0.0\t0.0\t0.0\t0.0\t0.0\t0.333\t0.0\t0.0\t0.167\t0.0\t0.0\t0.0\t0.0\t0.0\t0.0\t0.0\t0.0\t0.0\t0.0\t0.0\t0.0\t0.333\t0.0\t0.0\t\n",
            "\n",
            "ini\t0.0\t0.0\t0.0\t0.0\t0.0\t0.0\t0.0\t0.0\t0.0\t0.0\t0.0\t0.0\t0.0\t0.0\t0.0\t0.0\t0.0\t0.0\t0.0\t0.0\t0.0\t0.0\t0.0\t0.0\t0.0\t1.0\t0.0\t0.0\t0.0\t0.0\t0.0\t\n",
            "\n",
            "<\t0.0\t0.0\t0.0\t0.0\t0.0\t0.0\t0.5\t0.0\t0.5\t0.0\t0.0\t0.0\t0.0\t0.0\t0.0\t0.0\t0.0\t0.0\t0.0\t0.0\t0.0\t0.0\t0.0\t0.0\t0.0\t0.0\t0.0\t0.0\t0.0\t0.0\t0.0\t\n",
            "\n",
            "makan\t0.0\t0.0\t0.0\t0.0\t0.0\t0.0\t0.0\t0.167\t0.0\t0.0\t0.0\t0.0\t0.0\t0.0\t0.0\t0.0\t0.0\t0.0\t0.0\t0.0\t0.5\t0.167\t0.167\t0.0\t0.0\t0.0\t0.0\t0.0\t0.0\t0.0\t0.0\t\n",
            "\n",
            "kemarin\t0.0\t0.0\t0.0\t0.0\t0.0\t0.0\t0.0\t0.0\t0.0\t0.0\t0.0\t0.0\t0.0\t0.0\t0.0\t0.0\t0.0\t0.0\t0.0\t0.0\t0.0\t0.0\t0.0\t0.0\t0.0\t1.0\t0.0\t0.0\t0.0\t0.0\t0.0\t\n",
            "\n",
            "coca\t0.0\t0.0\t0.0\t1.0\t0.0\t0.0\t0.0\t0.0\t0.0\t0.0\t0.0\t0.0\t0.0\t0.0\t0.0\t0.0\t0.0\t0.0\t0.0\t0.0\t0.0\t0.0\t0.0\t0.0\t0.0\t0.0\t0.0\t0.0\t0.0\t0.0\t0.0\t\n",
            "\n"
          ]
        }
      ]
    },
    {
      "cell_type": "markdown",
      "source": [
        "membuat string lagi untuk kalimat ujinya"
      ],
      "metadata": {
        "id": "DrEjK3S3bC5Q"
      }
    },
    {
      "cell_type": "code",
      "source": [
        "text = \"<s> saya suka dengan makanan laut </s>\""
      ],
      "metadata": {
        "id": "zVZ-MvWaXiE8"
      },
      "execution_count": null,
      "outputs": []
    },
    {
      "cell_type": "markdown",
      "source": [
        "test string di preprocess lagi seperti dataset"
      ],
      "metadata": {
        "id": "P6tz9fXDbGz8"
      }
    },
    {
      "cell_type": "code",
      "source": [
        "p = preprocess(text)\n",
        "print(\"Preprocessed Text = \\n\",p,\"\\n\")\n",
        "t = generate_tokens(p)\n",
        "print(\"Tokens Generated = \\n\",t,\"\\n\")\n",
        "n = generate_ngrams(t,2)\n",
        "print(\"N-grams Generated = \\n= \",n)"
      ],
      "metadata": {
        "colab": {
          "base_uri": "https://localhost:8080/"
        },
        "id": "C7QXAB2lXrwC",
        "outputId": "38745e9a-e468-49ba-9e4b-8313b334459b"
      },
      "execution_count": null,
      "outputs": [
        {
          "output_type": "stream",
          "name": "stdout",
          "text": [
            "Preprocessed Text = \n",
            " <s> saya suka dengan makanan laut </s> \n",
            "\n",
            "Tokens Generated = \n",
            " ['<', 's', '>', 'saya', 'suka', 'dengan', 'makanan', 'laut', '<', '/s', '>'] \n",
            "\n",
            "N-grams Generated = \n",
            "=  [['<', 's'], ['s', '>'], ['>', 'saya'], ['saya', 'suka'], ['suka', 'dengan'], ['dengan', 'makanan'], ['makanan', 'laut'], ['laut', '<'], ['<', '/s'], ['/s', '>']]\n"
          ]
        }
      ]
    },
    {
      "cell_type": "markdown",
      "source": [
        "Calculate bigram probability untuk setiap pasangan"
      ],
      "metadata": {
        "id": "ok55CbORbQnB"
      }
    },
    {
      "cell_type": "code",
      "source": [
        "print('\\033[1m'+\"Calculate bigram probability\"+'\\033[0m\\n')\n",
        "s=1\n",
        "dct2={}\n",
        "for i in n:\n",
        "    dct2[\" \".join(i)]=0\n",
        "for i in n:\n",
        "    k=distinct_tokens.index(i[0])\n",
        "    m=distinct_tokens.index(i[1])\n",
        "    dct2[\" \".join(i)]=probability_table[k][m]\n",
        "    print(\"P('{}')\\t=  \".format(' '.join(i)),probability_table[k][m])\n",
        "    s*=probability_table[k][m]"
      ],
      "metadata": {
        "colab": {
          "base_uri": "https://localhost:8080/"
        },
        "id": "w9QYLVqxXs6O",
        "outputId": "775fe68a-97b8-4db8-afa7-05129e0f2f9b"
      },
      "execution_count": null,
      "outputs": [
        {
          "output_type": "stream",
          "name": "stdout",
          "text": [
            "\u001b[1mCalculate bigram probability\u001b[0m\n",
            "\n",
            "P('< s')\t=   0.5\n",
            "P('s >')\t=   1.0\n",
            "P('> saya')\t=   0.083\n",
            "P('saya suka')\t=   0.167\n",
            "P('suka dengan')\t=   1.0\n",
            "P('dengan makanan')\t=   0.5\n",
            "P('makanan laut')\t=   0.5\n",
            "P('laut <')\t=   1.0\n",
            "P('< /s')\t=   0.5\n",
            "P('/s >')\t=   1.0\n"
          ]
        }
      ]
    },
    {
      "cell_type": "markdown",
      "source": [
        "Melakukan perkalian untuk setiap bigram"
      ],
      "metadata": {
        "id": "xZJ1MjV8bTBL"
      }
    },
    {
      "cell_type": "code",
      "source": [
        "print(\"\\n\"+'\\033[1m'+ \"Calculate Probability of the sentence\"+'\\033[0m')\n",
        "print(f\"P('{text}') \\n= \",end=\"\")\n",
        "x=dct2.popitem()\n",
        "for i in dct2:\n",
        "    print(f\"P('{i}')\", end=\" * \")\n",
        "print(f\"P('{x[0]}')\\n= \", end='')\n",
        "\n",
        "for i in dct2:\n",
        "    print(dct2[i], end=\" * \")\n",
        "print(x[1],\"\\n=\",s)\n",
        "\n",
        "print(\"\\n\"+'\\033[1m'+f\"Probability('{text}') = \"+\"{:.5f}\".format(s))"
      ],
      "metadata": {
        "colab": {
          "base_uri": "https://localhost:8080/"
        },
        "id": "WgdZ5L7sYKWE",
        "outputId": "0366b37e-71e9-4b8a-d605-d82c8d26fbed"
      },
      "execution_count": null,
      "outputs": [
        {
          "output_type": "stream",
          "name": "stdout",
          "text": [
            "\n",
            "\u001b[1mCalculate Probability of the sentence\u001b[0m\n",
            "P('<s> saya suka dengan makanan laut </s>') \n",
            "= P('< s') * P('s >') * P('> saya') * P('saya suka') * P('suka dengan') * P('dengan makanan') * P('makanan laut') * P('laut <') * P('< /s') * P('/s >')\n",
            "= 0.5 * 1.0 * 0.083 * 0.167 * 1.0 * 0.5 * 0.5 * 1.0 * 0.5 * 1.0 \n",
            "= 0.0008663125000000001\n",
            "\n",
            "\u001b[1mProbability('<s> saya suka dengan makanan laut </s>') = 0.00087\n"
          ]
        }
      ]
    },
    {
      "cell_type": "code",
      "source": [
        "text = \"<s> Besok saya berencana makan Pizza </s>\"\n",
        "p = preprocess(text)\n",
        "t = generate_tokens(p)\n",
        "n = generate_ngrams(t,2)\n",
        "s=1\n",
        "dct2={}\n",
        "for i in n:\n",
        "    dct2[\" \".join(i)]=0\n",
        "for i in n:\n",
        "    k=distinct_tokens.index(i[0])\n",
        "    m=distinct_tokens.index(i[1])\n",
        "    dct2[\" \".join(i)]=probability_table[k][m]\n",
        "    s*=probability_table[k][m]\n",
        "x=dct2.popitem()\n",
        "\n",
        "\n",
        "print('\\033[1m'+f\"Probability('{text}') = \"+\"{:.5f}\".format(s))"
      ],
      "metadata": {
        "colab": {
          "base_uri": "https://localhost:8080/"
        },
        "id": "YghjrBYCZBFZ",
        "outputId": "65336fa2-05e2-4478-8ba4-51229b229625"
      },
      "execution_count": null,
      "outputs": [
        {
          "output_type": "stream",
          "name": "stdout",
          "text": [
            "\u001b[1mProbability('<s> Besok saya berencana makan Pizza </s>') = 0.00087\n"
          ]
        }
      ]
    },
    {
      "cell_type": "code",
      "source": [
        "text = \"<s> Saya makan Pizza </s>\"\n",
        "p = preprocess(text)\n",
        "t = generate_tokens(p)\n",
        "n = generate_ngrams(t,2)\n",
        "s=1\n",
        "dct2={}\n",
        "for i in n:\n",
        "    dct2[\" \".join(i)]=0\n",
        "for i in n:\n",
        "    k=distinct_tokens.index(i[0])\n",
        "    m=distinct_tokens.index(i[1])\n",
        "    dct2[\" \".join(i)]=probability_table[k][m]\n",
        "    s*=probability_table[k][m]\n",
        "x=dct2.popitem()\n",
        "\n",
        "\n",
        "print('\\033[1m'+f\"Probability('{text}') = \"+\"{:.5f}\".format(s))"
      ],
      "metadata": {
        "colab": {
          "base_uri": "https://localhost:8080/"
        },
        "id": "WnPLVw0uZjBE",
        "outputId": "67569900-d63c-4c59-9bf8-6fdb90e935cb"
      },
      "execution_count": null,
      "outputs": [
        {
          "output_type": "stream",
          "name": "stdout",
          "text": [
            "\u001b[1mProbability('<s> Saya makan Pizza </s>') = 0.00115\n"
          ]
        }
      ]
    },
    {
      "cell_type": "code",
      "source": [
        "text = \"<s> Saya minum kopi </s>\"\n",
        "p = preprocess(text)\n",
        "t = generate_tokens(p)\n",
        "n = generate_ngrams(t,2)\n",
        "s=1\n",
        "dct2={}\n",
        "for i in n:\n",
        "    dct2[\" \".join(i)]=0\n",
        "for i in n:\n",
        "    k=distinct_tokens.index(i[0])\n",
        "    m=distinct_tokens.index(i[1])\n",
        "    dct2[\" \".join(i)]=probability_table[k][m]\n",
        "    s*=probability_table[k][m]\n",
        "x=dct2.popitem()\n",
        "\n",
        "\n",
        "print('\\033[1m'+f\"Probability('{text}') = \"+\"{:.5f}\".format(s))"
      ],
      "metadata": {
        "colab": {
          "base_uri": "https://localhost:8080/"
        },
        "id": "5hX_2uu4ZtuD",
        "outputId": "c8be1868-00d9-4be7-b936-1059ae77579b"
      },
      "execution_count": null,
      "outputs": [
        {
          "output_type": "stream",
          "name": "stdout",
          "text": [
            "\u001b[1mProbability('<s> Saya minum kopi </s>') = 0.00087\n"
          ]
        }
      ]
    },
    {
      "cell_type": "code",
      "source": [
        "text = \"<s> saya suka </s>\"\n",
        "p = preprocess(text)\n",
        "t = generate_tokens(p)\n",
        "n = generate_ngrams(t,2)\n",
        "s=1\n",
        "dct2={}\n",
        "for i in n:\n",
        "    dct2[\" \".join(i)]=0\n",
        "for i in n:\n",
        "    k=distinct_tokens.index(i[0])\n",
        "    m=distinct_tokens.index(i[1])\n",
        "    dct2[\" \".join(i)]=probability_table[k][m]\n",
        "    s*=probability_table[k][m]\n",
        "x=dct2.popitem()\n",
        "\n",
        "\n",
        "print('\\033[1m'+f\"Probability('{text}') = \"+\"{:.5f}\".format(s))"
      ],
      "metadata": {
        "colab": {
          "base_uri": "https://localhost:8080/"
        },
        "id": "-RLORMcfZ0NI",
        "outputId": "5b6a1f0e-8cfd-48c3-f39e-282844681f03"
      },
      "execution_count": null,
      "outputs": [
        {
          "output_type": "stream",
          "name": "stdout",
          "text": [
            "\u001b[1mProbability('<s> saya suka </s>') = 0.00000\n"
          ]
        }
      ]
    }
  ]
}